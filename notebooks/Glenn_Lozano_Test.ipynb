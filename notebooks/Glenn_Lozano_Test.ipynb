{
  "nbformat": 4,
  "nbformat_minor": 0,
  "metadata": {
    "colab": {
      "provenance": []
    },
    "kernelspec": {
      "name": "python3",
      "display_name": "Python 3"
    }
  },
  "cells": [
    {
      "cell_type": "markdown",
      "metadata": {
        "id": "qO-LvEzl3giR"
      },
      "source": [
        "# Reducción de dimensionalidad\n",
        "\n",
        "## 1. Selección de características por filtrado"
      ]
    },
    {
      "cell_type": "code",
      "metadata": {
        "id": "yT4q-DZw0REa",
        "colab": {
          "base_uri": "https://localhost:8080/"
        },
        "outputId": "fca9d5ce-5692-45f9-f739-fefa2eb7a757"
      },
      "source": [
        "#Test234\n",
        "# Ver https://scikit-learn.org/stable/modules/feature_selection.html#univariate-feature-selection\n",
        "\n",
        "from sklearn.datasets import load_iris\n",
        "from sklearn.feature_selection import SelectKBest\n",
        "from sklearn.feature_selection import chi2, mutual_info_classif\n",
        "X, y = load_iris(return_X_y=True)\n",
        "X.shape"
      ],
      "execution_count": 1,
      "outputs": [
        {
          "output_type": "execute_result",
          "data": {
            "text/plain": [
              "(150, 4)"
            ]
          },
          "metadata": {},
          "execution_count": 1
        }
      ]
    },
    {
      "cell_type": "code",
      "metadata": {
        "id": "Ha9aMAuh2iAK",
        "colab": {
          "base_uri": "https://localhost:8080/"
        },
        "outputId": "a76814c8-0c2b-4190-9434-194e596f1b79"
      },
      "source": [
        "X[:5]"
      ],
      "execution_count": null,
      "outputs": [
        {
          "output_type": "execute_result",
          "data": {
            "text/plain": [
              "array([[5.1, 3.5, 1.4, 0.2],\n",
              "       [4.9, 3. , 1.4, 0.2],\n",
              "       [4.7, 3.2, 1.3, 0.2],\n",
              "       [4.6, 3.1, 1.5, 0.2],\n",
              "       [5. , 3.6, 1.4, 0.2]])"
            ]
          },
          "metadata": {},
          "execution_count": 2
        }
      ]
    },
    {
      "cell_type": "code",
      "metadata": {
        "id": "5FpNll4F1m_C"
      },
      "source": [
        "filtrado = SelectKBest(chi2, k=2).fit(X, y)"
      ],
      "execution_count": null,
      "outputs": []
    },
    {
      "cell_type": "code",
      "metadata": {
        "id": "bgdxSDXP2sEY",
        "colab": {
          "base_uri": "https://localhost:8080/"
        },
        "outputId": "da4a45f6-23bb-4a79-925d-afe0fc4ecb4c"
      },
      "source": [
        "filtrado.scores_"
      ],
      "execution_count": null,
      "outputs": [
        {
          "output_type": "execute_result",
          "data": {
            "text/plain": [
              "array([ 10.81782088,   3.7107283 , 116.31261309,  67.0483602 ])"
            ]
          },
          "metadata": {},
          "execution_count": 7
        }
      ]
    },
    {
      "cell_type": "code",
      "metadata": {
        "id": "ecqEsoRU2t5p",
        "colab": {
          "base_uri": "https://localhost:8080/"
        },
        "outputId": "8aca1eb3-4959-441a-c635-e1532a63c28b"
      },
      "source": [
        "# no aplica para mutual_info_classif\n",
        "filtrado.pvalues_"
      ],
      "execution_count": null,
      "outputs": [
        {
          "output_type": "execute_result",
          "data": {
            "text/plain": [
              "array([4.47651499e-03, 1.56395980e-01, 5.53397228e-26, 2.75824965e-15])"
            ]
          },
          "metadata": {},
          "execution_count": 8
        }
      ]
    },
    {
      "cell_type": "code",
      "metadata": {
        "id": "PRPNR57l26Tm",
        "colab": {
          "base_uri": "https://localhost:8080/"
        },
        "outputId": "2f9d855b-9402-483c-c951-0b024d3dd656"
      },
      "source": [
        "X_new = filtrado.transform(X)\n",
        "X_new[:5]"
      ],
      "execution_count": null,
      "outputs": [
        {
          "output_type": "execute_result",
          "data": {
            "text/plain": [
              "array([[1.4, 0.2],\n",
              "       [1.4, 0.2],\n",
              "       [1.3, 0.2],\n",
              "       [1.5, 0.2],\n",
              "       [1.4, 0.2]])"
            ]
          },
          "metadata": {
            "tags": []
          },
          "execution_count": 6
        }
      ]
    },
    {
      "cell_type": "markdown",
      "metadata": {
        "id": "iUwSDQA2-BL3"
      },
      "source": [
        "## 2. Selección de características por wrapping - Backward elimination"
      ]
    },
    {
      "cell_type": "code",
      "metadata": {
        "id": "D-Zzu7P0-B2P",
        "colab": {
          "base_uri": "https://localhost:8080/",
          "height": 316
        },
        "outputId": "f5e5bab3-54e7-4e64-8e12-3a6269901a48"
      },
      "source": [
        "# Ver https://scikit-learn.org/stable/auto_examples/feature_selection/plot_rfe_with_cross_validation.html\n",
        "\n",
        "import matplotlib.pyplot as plt\n",
        "from sklearn.svm import SVC\n",
        "from sklearn.model_selection import StratifiedKFold\n",
        "from sklearn.feature_selection import RFECV\n",
        "from sklearn.datasets import make_classification\n",
        "\n",
        "# Build a classification task using 3 informative features\n",
        "X, y = make_classification(n_samples=1000, n_features=25, n_informative=3,\n",
        "                           n_redundant=2, n_repeated=0, n_classes=8,\n",
        "                           n_clusters_per_class=1, random_state=0)\n",
        "\n",
        "# Create the RFE object and compute a cross-validated score.\n",
        "svc = SVC(kernel=\"linear\")\n",
        "# The \"accuracy\" scoring is proportional to the number of correct\n",
        "# classifications\n",
        "rfecv = RFECV(estimator=svc, step=1, cv=StratifiedKFold(2),\n",
        "              scoring='accuracy')\n",
        "rfecv.fit(X, y)\n",
        "\n",
        "print(\"Optimal number of features : %d\" % rfecv.n_features_)\n",
        "\n",
        "# Plot number of features VS. cross-validation scores\n",
        "plt.figure()\n",
        "plt.xlabel(\"Number of features selected\")\n",
        "plt.ylabel(\"Cross validation score (nb of correct classifications)\")\n",
        "plt.plot(range(1, len(rfecv.grid_scores_) + 1), rfecv.grid_scores_)\n",
        "plt.show()"
      ],
      "execution_count": null,
      "outputs": [
        {
          "output_type": "stream",
          "text": [
            "Optimal number of features : 3\n"
          ],
          "name": "stdout"
        },
        {
          "output_type": "display_data",
          "data": {
            "image/png": "[encoded data removed]",
            "text/plain": [
              "<Figure size 432x288 with 1 Axes>"
            ]
          },
          "metadata": {
            "tags": [],
            "needs_background": "light"
          }
        }
      ]
    },
    {
      "cell_type": "code",
      "metadata": {
        "id": "nhibdN28-hn6",
        "colab": {
          "base_uri": "https://localhost:8080/",
          "height": 268
        },
        "outputId": "de90433d-76e0-4b93-ffbc-ac1473441d8e"
      },
      "source": [
        "X[:3]"
      ],
      "execution_count": null,
      "outputs": [
        {
          "output_type": "execute_result",
          "data": {
            "text/plain": [
              "array([[-0.27126113,  1.88663904,  0.4257523 , -0.88276904,  0.08182017,\n",
              "        -0.12996586, -0.81134665, -0.56314334, -1.43090037,  1.84759586,\n",
              "         0.38680014,  1.2207347 , -0.68674281,  2.26405884,  0.66702931,\n",
              "        -0.16950537, -0.41086903,  0.24182054, -1.34830846,  0.84522543,\n",
              "        -1.23049127,  2.45322899,  0.55820327, -0.54562849,  0.12710617],\n",
              "       [-2.06947249,  1.72056896, -0.64016106,  0.60150829,  0.06898334,\n",
              "        -0.8785432 , -0.55050613, -1.51073577,  0.224092  , -0.90189023,\n",
              "        -2.38042316,  0.17982286,  1.097272  , -0.22637583,  0.41442306,\n",
              "         0.2870897 ,  0.0975975 , -1.20911442,  0.87655629, -0.1257646 ,\n",
              "         0.22428789, -0.52805035, -0.76494431, -1.57471131, -0.04753333],\n",
              "       [-0.20769822, -0.33284919,  1.37265908,  1.08011916,  0.12621607,\n",
              "        -0.57996437, -0.10975504,  0.3758979 ,  0.0366507 ,  0.5925967 ,\n",
              "         0.65204044, -0.56257412, -1.00390861,  0.11921294, -1.30959852,\n",
              "        -1.17323827, -0.70184592, -1.10048105,  0.26920378,  0.91041814,\n",
              "        -0.2414116 , -1.10931682,  0.03917614,  0.22502891,  0.90827225]])"
            ]
          },
          "metadata": {
            "tags": []
          },
          "execution_count": 22
        }
      ]
    },
    {
      "cell_type": "code",
      "metadata": {
        "id": "dvgfAYif-rVi",
        "colab": {
          "base_uri": "https://localhost:8080/",
          "height": 33
        },
        "outputId": "b8cedb19-e6c7-4685-d84c-25273811b93a"
      },
      "source": [
        "rfecv.n_features_"
      ],
      "execution_count": null,
      "outputs": [
        {
          "output_type": "execute_result",
          "data": {
            "text/plain": [
              "3"
            ]
          },
          "metadata": {
            "tags": []
          },
          "execution_count": 23
        }
      ]
    },
    {
      "cell_type": "code",
      "metadata": {
        "id": "AqLPdmEf-t-h",
        "colab": {
          "base_uri": "https://localhost:8080/",
          "height": 67
        },
        "outputId": "853effd1-7f7b-4d6d-8cbc-05e8338d1531"
      },
      "source": [
        "rfecv.support_"
      ],
      "execution_count": null,
      "outputs": [
        {
          "output_type": "execute_result",
          "data": {
            "text/plain": [
              "array([False,  True, False, False, False, False, False,  True, False,\n",
              "       False, False, False, False, False, False, False, False, False,\n",
              "        True, False, False, False, False, False, False])"
            ]
          },
          "metadata": {
            "tags": []
          },
          "execution_count": 24
        }
      ]
    },
    {
      "cell_type": "code",
      "metadata": {
        "id": "dWjSPKSB-9mW",
        "colab": {
          "base_uri": "https://localhost:8080/",
          "height": 67
        },
        "outputId": "d84bc536-68c7-489a-865c-0887dd5579ca"
      },
      "source": [
        "X_new = rfecv.transform(X)\n",
        "X_new[:3]"
      ],
      "execution_count": null,
      "outputs": [
        {
          "output_type": "execute_result",
          "data": {
            "text/plain": [
              "array([[ 1.88663904, -0.56314334, -1.34830846],\n",
              "       [ 1.72056896, -1.51073577,  0.87655629],\n",
              "       [-0.33284919,  0.3758979 ,  0.26920378]])"
            ]
          },
          "metadata": {
            "tags": []
          },
          "execution_count": 26
        }
      ]
    },
    {
      "cell_type": "markdown",
      "source": [
        "Ver también: [Selección de características en base a importancia](https://scikit-learn.org/stable/modules/feature_selection.html#select-from-model)"
      ],
      "metadata": {
        "id": "hUyIW4Mj87s2"
      }
    }
  ]
}